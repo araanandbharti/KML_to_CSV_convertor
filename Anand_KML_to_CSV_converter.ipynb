{
 "cells": [
  {
   "cell_type": "markdown",
   "id": "bc8bf735-9754-4995-acd2-3b06d81aa67a",
   "metadata": {},
   "source": [
    "\n",
    "<h1> Hii, My name is Anand Bharti and this notebook I have written code to covert KML file to CSV file.\n",
    "    "
   ]
  },
  {
   "cell_type": "code",
   "execution_count": 1,
   "id": "71bd89b9-d90b-4ed3-a571-cd3db5435da1",
   "metadata": {},
   "outputs": [
    {
     "name": "stdout",
     "output_type": "stream",
     "text": [
      "Requirement already satisfied: pykml in /home/jupyterlab/conda/envs/python/lib/python3.7/site-packages (0.2.0)\n",
      "Requirement already satisfied: lxml>=3.3.6 in /home/jupyterlab/conda/envs/python/lib/python3.7/site-packages (from pykml) (4.6.3)\n",
      "Note: you may need to restart the kernel to use updated packages.\n"
     ]
    }
   ],
   "source": [
    "pip install pykml"
   ]
  },
  {
   "cell_type": "code",
   "execution_count": 2,
   "id": "8d6bc142-8cbc-4b93-a311-f4c21c82ca75",
   "metadata": {},
   "outputs": [],
   "source": [
    "# from pykml import parser\n",
    "\n",
    "# kml_file = \"coordinates.kml\"\n",
    "\n",
    "# with open(kml_file) as f:\n",
    "\n",
    "#     doc = parser.parse(f)\n",
    "\n",
    "# coordinate = doc.Element(\"coordinates\")\n",
    "# print (coordinate)"
   ]
  },
  {
   "cell_type": "markdown",
   "id": "e0b4a47e-efa9-4291-8e20-a49e3fc9c58c",
   "metadata": {},
   "source": [
    "\n",
    "\n",
    "<h3> url = open(<b>Write file name here like 'Dir.kml' with quatotaion mark</b>, 'r').read()"
   ]
  },
  {
   "cell_type": "code",
   "execution_count": 3,
   "id": "cff09db4-0c9c-4ee9-944b-c66cbc57047e",
   "metadata": {},
   "outputs": [],
   "source": [
    "from pykml import parser\n",
    "\n",
    "# root = parser.fromstring(open('coordinates.kml', 'r').read())\n",
    "# root.text()\n",
    "\n",
    "url = open('Dir.kml', 'r').read()"
   ]
  },
  {
   "cell_type": "raw",
   "id": "4d6dfc5f-2542-4380-bc2a-74a437f04063",
   "metadata": {},
   "source": [
    "# url = root\n",
    "url.text()"
   ]
  },
  {
   "cell_type": "code",
   "execution_count": 4,
   "id": "a2f4d032-ac98-424c-bdd7-335e828cf032",
   "metadata": {},
   "outputs": [
    {
     "data": {
      "text/plain": [
       "'<?xml version=\"1.0\" encoding=\"UTF-8\"?>\\n<kml xmlns=\"http://www.opengis.net/kml/2.2\">\\n  <Document>\\n    <name>Directions from Ceres Bus - Kabankalan Station, Kabankalan, Negros Occidental to Dancalan Pub'"
      ]
     },
     "execution_count": 4,
     "metadata": {},
     "output_type": "execute_result"
    }
   ],
   "source": [
    "url[0:200]"
   ]
  },
  {
   "cell_type": "code",
   "execution_count": 5,
   "id": "b8c62063-7333-49a7-a402-cdc44b450a30",
   "metadata": {},
   "outputs": [
    {
     "data": {
      "text/plain": [
       "str"
      ]
     },
     "execution_count": 5,
     "metadata": {},
     "output_type": "execute_result"
    }
   ],
   "source": [
    "type(url)"
   ]
  },
  {
   "cell_type": "code",
   "execution_count": 6,
   "id": "28d97a52-2e6e-4ca2-bf8a-7282db490871",
   "metadata": {},
   "outputs": [
    {
     "name": "stdout",
     "output_type": "stream",
     "text": [
      "Requirement already satisfied: bs4 in /home/jupyterlab/conda/envs/python/lib/python3.7/site-packages (0.0.1)\n",
      "Requirement already satisfied: beautifulsoup4 in /home/jupyterlab/conda/envs/python/lib/python3.7/site-packages (from bs4) (4.10.0)\n",
      "Requirement already satisfied: soupsieve>1.2 in /home/jupyterlab/conda/envs/python/lib/python3.7/site-packages (from beautifulsoup4->bs4) (2.2.1)\n"
     ]
    }
   ],
   "source": [
    "!pip install bs4"
   ]
  },
  {
   "cell_type": "code",
   "execution_count": 7,
   "id": "3ec2d9a1-0c31-4929-b73b-fbd5ea22869b",
   "metadata": {},
   "outputs": [],
   "source": [
    "from bs4 import BeautifulSoup as bs"
   ]
  },
  {
   "cell_type": "code",
   "execution_count": 8,
   "id": "d87fecaf-e9c4-4e75-ad21-6656fc1c7707",
   "metadata": {},
   "outputs": [],
   "source": [
    "g_url = bs(url,'html.parser')"
   ]
  },
  {
   "cell_type": "code",
   "execution_count": 9,
   "id": "a5805ce5-fec3-4877-92ab-dc1200654468",
   "metadata": {},
   "outputs": [],
   "source": [
    "table = g_url.find('coordinates')"
   ]
  },
  {
   "cell_type": "code",
   "execution_count": 10,
   "id": "84bcf47a-0f1f-4428-95fb-2fbf99ead9e8",
   "metadata": {},
   "outputs": [
    {
     "data": {
      "text/plain": [
       "bs4.element.Tag"
      ]
     },
     "execution_count": 10,
     "metadata": {},
     "output_type": "execute_result"
    }
   ],
   "source": [
    "type(table)"
   ]
  },
  {
   "cell_type": "code",
   "execution_count": 11,
   "id": "17b6d734-a684-48db-a667-7d6b4adc6e6f",
   "metadata": {},
   "outputs": [],
   "source": [
    "table1 = str(table)\n",
    "             "
   ]
  },
  {
   "cell_type": "code",
   "execution_count": 12,
   "id": "7cc320b3-72c2-47b9-bd38-6d27f3522b45",
   "metadata": {},
   "outputs": [
    {
     "data": {
      "text/plain": [
       "'<coordinates>\\n          122.81183,9.99801,0\\n          122.812,9.99816,0\\n          122.81201,9.99817,0\\n          122.81178,9.99844,0\\n          122.81142,9.99886,0\\n          122.81123,9.99908,0\\n          122.81005,10.00045,0\\n          122.8098,10.00074,0\\n          122.80934,10.00127,0\\n          122.80895,10.00172,0\\n          122.80855,10.00219,0\\n          122.80822,10.00256,0\\n          122.80817,10.00261,0\\n          122.80782,10.00304,0\\n          122.80685,10.00419,0\\n          122.8063,10.00482,0\\n          122.8062,10.00495,0\\n          122.80532,10.00597,0\\n          122.80454,10.00688,0\\n          122.80395,10.00755,0\\n          122.80316,10.00848,0\\n          122.80264,10.00909,0\\n          122.80257,10.00912,0\\n          122.80252,10.00914,0\\n          122.80247,10.00916,0\\n          122.80242,10.00917,0\\n          122.80238,10.00918,0\\n          122.8023,10.00918,0\\n          122.80219,10.00917,0\\n          122.80195,10.009,0\\n          122.80064,10.00811,0\\n          122.79996,10.00773,0\\n          122.79983,10.00766,0\\n          122.79979,10.00764,0\\n          122.7995,10.0075,0\\n          122.79774,10.00647,0\\n          122.79709,10.0061,0\\n          122.79475,10.00473,0\\n          122.79423,10.00443,0\\n          122.79407,10.00434,0\\n          122.79266,10.00352,0\\n          122.79097,10.00254,0\\n          122.79005,10.00225,0\\n          122.78917,10.00197,0\\n          122.78831,10.00171,0\\n          122.78805,10.00164,0\\n          122.78764,10.00162,0\\n          122.78739,10.00161,0\\n          122.78466,10.00152,0\\n          122.78338,10.00147,0\\n          122.78301,10.00146,0\\n          122.78259,10.00145,0\\n          122.78168,10.00136,0\\n          122.78017,10.00122,0\\n          122.77836,10.00105,0\\n          122.77801,10.00102,0\\n          122.77614,10.00085,0\\n          122.77505,10.00075,0\\n          122.77381,10.00063,0\\n          122.77069,10.00032,0\\n          122.77036,10.00027,0\\n          122.77015,10.00022,0\\n          122.76972,10.00004,0\\n          122.76739,9.99905,0\\n          122.7664,9.99863,0\\n          122.76629,9.99859,0\\n          122.76348,9.99738,0\\n          122.76224,9.99685,0\\n          122.76039,9.99606,0\\n          122.75916,9.99552,0\\n          122.75896,9.99544,0\\n          122.75782,9.99495,0\\n          122.75765,9.99488,0\\n          122.75661,9.99443,0\\n          122.75597,9.99417,0\\n          122.7548,9.99381,0\\n          122.75452,9.99372,0\\n          122.75348,9.99339,0\\n          122.7533,9.99333,0\\n          122.75273,9.99316,0\\n          122.75212,9.99296,0\\n          122.74978,9.99222,0\\n          122.74971,9.99219,0\\n          122.74954,9.99211,0\\n          122.74947,9.99206,0\\n          122.74931,9.99192,0\\n          122.74915,9.99177,0\\n          122.74879,9.99141,0\\n          122.74843,9.99106,0\\n          122.74792,9.99054,0\\n          122.74727,9.9899,0\\n          122.74714,9.98978,0\\n          122.74673,9.98937,0\\n          122.7465,9.98913,0\\n          122.74575,9.98834,0\\n          122.74548,9.98805,0\\n          122.7448,9.98725,0\\n          122.74478,9.98723,0\\n          122.7433,9.98545,0\\n          122.74325,9.98539,0\\n          122.74277,9.98482,0\\n        </coordinates>'"
      ]
     },
     "execution_count": 12,
     "metadata": {},
     "output_type": "execute_result"
    }
   ],
   "source": [
    "table1"
   ]
  },
  {
   "cell_type": "code",
   "execution_count": 13,
   "id": "f951ccb3-94c0-48ef-9bff-4344e9de6101",
   "metadata": {},
   "outputs": [
    {
     "data": {
      "text/plain": [
       "str"
      ]
     },
     "execution_count": 13,
     "metadata": {},
     "output_type": "execute_result"
    }
   ],
   "source": [
    "type(table1)"
   ]
  },
  {
   "cell_type": "code",
   "execution_count": 14,
   "id": "d67bfb3f-9b6f-4288-858b-77dfcd1dcac1",
   "metadata": {},
   "outputs": [],
   "source": [
    "table1 = table1.replace('0\\n',\"\")"
   ]
  },
  {
   "cell_type": "code",
   "execution_count": 15,
   "id": "2ec4f329-b168-43c0-9d43-bde357f5a863",
   "metadata": {},
   "outputs": [],
   "source": [
    "table1 = table1.replace('\\n',\"\")"
   ]
  },
  {
   "cell_type": "code",
   "execution_count": 16,
   "id": "8bdb88b9-7a3a-4f05-9784-37143b460071",
   "metadata": {},
   "outputs": [],
   "source": [
    "table1 = table1.replace('</coordinates>',\"\")\n",
    "table1 = table1.replace('<coordinates>',\"\")"
   ]
  },
  {
   "cell_type": "code",
   "execution_count": 17,
   "id": "7dbdc696-0c55-4cb7-bdb6-1ffd2f56616c",
   "metadata": {},
   "outputs": [],
   "source": [
    "table1 = table1.replace('\\t',\"\")"
   ]
  },
  {
   "cell_type": "code",
   "execution_count": 18,
   "id": "8074396d-c624-4651-a025-70b9d1fa10c1",
   "metadata": {},
   "outputs": [],
   "source": [
    "# text1 = text.replace('0\\n',\"\")\n",
    "table1 = table1.replace('',\"\")"
   ]
  },
  {
   "cell_type": "code",
   "execution_count": 19,
   "id": "cdf7f6a8-94c8-4e46-b505-3b783000e5d8",
   "metadata": {},
   "outputs": [
    {
     "data": {
      "text/plain": [
       "'          122.81183,9.99801,          122.812,9.99816,          122.81201,9.99817,          122.81178,9.99844,          122.81142,9.99886,          122.81123,9.99908,          122.81005,10.00045,          122.8098,10.00074,          122.80934,10.00127,          122.80895,10.00172,          122.80855,10.00219,          122.80822,10.00256,          122.80817,10.00261,          122.80782,10.00304,          122.80685,10.00419,          122.8063,10.00482,          122.8062,10.00495,          122.80532,10.00597,          122.80454,10.00688,          122.80395,10.00755,          122.80316,10.00848,          122.80264,10.00909,          122.80257,10.00912,          122.80252,10.00914,          122.80247,10.00916,          122.80242,10.00917,          122.80238,10.00918,          122.8023,10.00918,          122.80219,10.00917,          122.80195,10.009,          122.80064,10.00811,          122.79996,10.00773,          122.79983,10.00766,          122.79979,10.00764,          122.7995,10.0075,          122.79774,10.00647,          122.79709,10.0061,          122.79475,10.00473,          122.79423,10.00443,          122.79407,10.00434,          122.79266,10.00352,          122.79097,10.00254,          122.79005,10.00225,          122.78917,10.00197,          122.78831,10.00171,          122.78805,10.00164,          122.78764,10.00162,          122.78739,10.00161,          122.78466,10.00152,          122.78338,10.00147,          122.78301,10.00146,          122.78259,10.00145,          122.78168,10.00136,          122.78017,10.00122,          122.77836,10.00105,          122.77801,10.00102,          122.77614,10.00085,          122.77505,10.00075,          122.77381,10.00063,          122.77069,10.00032,          122.77036,10.00027,          122.77015,10.00022,          122.76972,10.00004,          122.76739,9.99905,          122.7664,9.99863,          122.76629,9.99859,          122.76348,9.99738,          122.76224,9.99685,          122.76039,9.99606,          122.75916,9.99552,          122.75896,9.99544,          122.75782,9.99495,          122.75765,9.99488,          122.75661,9.99443,          122.75597,9.99417,          122.7548,9.99381,          122.75452,9.99372,          122.75348,9.99339,          122.7533,9.99333,          122.75273,9.99316,          122.75212,9.99296,          122.74978,9.99222,          122.74971,9.99219,          122.74954,9.99211,          122.74947,9.99206,          122.74931,9.99192,          122.74915,9.99177,          122.74879,9.99141,          122.74843,9.99106,          122.74792,9.99054,          122.74727,9.9899,          122.74714,9.98978,          122.74673,9.98937,          122.7465,9.98913,          122.74575,9.98834,          122.74548,9.98805,          122.7448,9.98725,          122.74478,9.98723,          122.7433,9.98545,          122.74325,9.98539,          122.74277,9.98482,        '"
      ]
     },
     "execution_count": 19,
     "metadata": {},
     "output_type": "execute_result"
    }
   ],
   "source": [
    "table1"
   ]
  },
  {
   "cell_type": "code",
   "execution_count": 20,
   "id": "34b14d48-f965-45c8-9b1f-01643a48f8e3",
   "metadata": {},
   "outputs": [],
   "source": [
    "table1 = table1.replace('          ',\"\")"
   ]
  },
  {
   "cell_type": "code",
   "execution_count": 21,
   "id": "5ca3fccf-9ae6-4101-95c6-f2e31228dc94",
   "metadata": {},
   "outputs": [
    {
     "data": {
      "text/plain": [
       "'122.81183,9.99801,122.812,9.99816,122.81201,9.99817,122.81178,9.99844,122.81142,9.99886,122.81123,9.99908,122.81005,10.00045,122.8098,10.00074,122.80934,10.00127,122.80895,10.00172,122.80855,10.00219,122.80822,10.00256,122.80817,10.00261,122.80782,10.00304,122.80685,10.00419,122.8063,10.00482,122.8062,10.00495,122.80532,10.00597,122.80454,10.00688,122.80395,10.00755,122.80316,10.00848,122.80264,10.00909,122.80257,10.00912,122.80252,10.00914,122.80247,10.00916,122.80242,10.00917,122.80238,10.00918,122.8023,10.00918,122.80219,10.00917,122.80195,10.009,122.80064,10.00811,122.79996,10.00773,122.79983,10.00766,122.79979,10.00764,122.7995,10.0075,122.79774,10.00647,122.79709,10.0061,122.79475,10.00473,122.79423,10.00443,122.79407,10.00434,122.79266,10.00352,122.79097,10.00254,122.79005,10.00225,122.78917,10.00197,122.78831,10.00171,122.78805,10.00164,122.78764,10.00162,122.78739,10.00161,122.78466,10.00152,122.78338,10.00147,122.78301,10.00146,122.78259,10.00145,122.78168,10.00136,122.78017,10.00122,122.77836,10.00105,122.77801,10.00102,122.77614,10.00085,122.77505,10.00075,122.77381,10.00063,122.77069,10.00032,122.77036,10.00027,122.77015,10.00022,122.76972,10.00004,122.76739,9.99905,122.7664,9.99863,122.76629,9.99859,122.76348,9.99738,122.76224,9.99685,122.76039,9.99606,122.75916,9.99552,122.75896,9.99544,122.75782,9.99495,122.75765,9.99488,122.75661,9.99443,122.75597,9.99417,122.7548,9.99381,122.75452,9.99372,122.75348,9.99339,122.7533,9.99333,122.75273,9.99316,122.75212,9.99296,122.74978,9.99222,122.74971,9.99219,122.74954,9.99211,122.74947,9.99206,122.74931,9.99192,122.74915,9.99177,122.74879,9.99141,122.74843,9.99106,122.74792,9.99054,122.74727,9.9899,122.74714,9.98978,122.74673,9.98937,122.7465,9.98913,122.74575,9.98834,122.74548,9.98805,122.7448,9.98725,122.74478,9.98723,122.7433,9.98545,122.74325,9.98539,122.74277,9.98482,        '"
      ]
     },
     "execution_count": 21,
     "metadata": {},
     "output_type": "execute_result"
    }
   ],
   "source": [
    "table1"
   ]
  },
  {
   "cell_type": "code",
   "execution_count": 22,
   "id": "754afd7a-4b3c-4193-9deb-1d7558d82d39",
   "metadata": {},
   "outputs": [],
   "source": [
    "# text2 = text.split('</coordinates>')"
   ]
  },
  {
   "cell_type": "code",
   "execution_count": 23,
   "id": "e19f6749-64a8-4f4d-b9d7-fd33d1bbf1f4",
   "metadata": {},
   "outputs": [],
   "source": [
    "# text2"
   ]
  },
  {
   "cell_type": "code",
   "execution_count": 24,
   "id": "293c8685-357d-485b-9a87-9d798eea3aa2",
   "metadata": {},
   "outputs": [],
   "source": [
    "#table1 = table1.replace('<coordinates>\\n ',\"\")"
   ]
  },
  {
   "cell_type": "code",
   "execution_count": 25,
   "id": "3693fa36-9b32-412f-8d3c-38408aa9b6c9",
   "metadata": {},
   "outputs": [],
   "source": [
    "# text1"
   ]
  },
  {
   "cell_type": "code",
   "execution_count": 26,
   "id": "7d90fa71-fd67-43a8-a522-7194e000e174",
   "metadata": {},
   "outputs": [
    {
     "data": {
      "text/plain": [
       "str"
      ]
     },
     "execution_count": 26,
     "metadata": {},
     "output_type": "execute_result"
    }
   ],
   "source": [
    "type(table1)"
   ]
  },
  {
   "cell_type": "code",
   "execution_count": 27,
   "id": "3a0ca5f9-47ab-4a1a-b48f-0ec34394a113",
   "metadata": {},
   "outputs": [],
   "source": [
    "import pandas as pd"
   ]
  },
  {
   "cell_type": "code",
   "execution_count": 28,
   "id": "bdf54cd9-b7ee-4276-bc67-110d819881f8",
   "metadata": {},
   "outputs": [
    {
     "name": "stdout",
     "output_type": "stream",
     "text": [
      "Empty DataFrame\n",
      "Columns: [122.81183,9.99801,122.812,9.99816,122.81201,9.99817,122.81178,9.99844,122.81142,9.99886,122.81123,9.99908,122.81005,10.00045,122.8098,10.00074,122.80934,10.00127,122.80895,10.00172,122.80855,10.00219,122.80822,10.00256,122.80817,10.00261,122.80782,10.00304,122.80685,10.00419,122.8063,10.00482,122.8062,10.00495,122.80532,10.00597,122.80454,10.00688,122.80395,10.00755,122.80316,10.00848,122.80264,10.00909,122.80257,10.00912,122.80252,10.00914,122.80247,10.00916,122.80242,10.00917,122.80238,10.00918,122.8023,10.00918,122.80219,10.00917,122.80195,10.009,122.80064,10.00811,122.79996,10.00773,122.79983,10.00766,122.79979,10.00764,122.7995,10.0075,122.79774,10.00647,122.79709,10.0061,122.79475,10.00473,122.79423,10.00443,122.79407,10.00434,122.79266,10.00352,122.79097,10.00254,122.79005,10.00225,122.78917,10.00197,122.78831,10.00171,122.78805,10.00164,122.78764,10.00162,122.78739,10.00161,122.78466,10.00152,122.78338,10.00147,122.78301,10.00146,122.78259,10.00145,122.78168,10.00136,122.78017,10.00122,122.77836,10.00105,122.77801,10.00102,122.77614,10.00085,122.77505,10.00075,122.77381,10.00063,122.77069,10.00032,122.77036,10.00027,122.77015,10.00022,122.76972,10.00004,122.76739,9.99905,122.7664,9.99863,122.76629,9.99859,122.76348,9.99738,122.76224,9.99685,122.76039,9.99606,122.75916,9.99552,122.75896,9.99544,122.75782,9.99495,122.75765,9.99488,122.75661,9.99443,122.75597,9.99417,122.7548,9.99381,122.75452,9.99372,122.75348,9.99339,122.7533,9.99333,122.75273,9.99316,122.75212,9.99296,122.74978,9.99222,122.74971,9.99219,122.74954,9.99211,122.74947,9.99206,122.74931,9.99192,122.74915,9.99177,122.74879,9.99141,122.74843,9.99106,122.74792,9.99054,122.74727,9.9899,122.74714,9.98978,122.74673,9.98937,122.7465,9.98913,122.74575,9.98834,122.74548,9.98805,122.7448,9.98725,122.74478,9.98723,122.7433,9.98545,122.74325,9.98539,122.74277,9.98482,        ]\n",
      "Index: []\n"
     ]
    }
   ],
   "source": [
    "from io import StringIO\n",
    "# # wrap the string data in StringIO function\n",
    "StringData = StringIO(table1)\n",
    "# # let's read the data using the Pandas\n",
    "# # read_csv() function\n",
    "df = pd.read_csv(StringData, sep =\"'\")\n",
    "  \n",
    "# Print the dataframe\n",
    "print(df)"
   ]
  },
  {
   "cell_type": "markdown",
   "id": "c29cad84-fd77-4993-b63e-f8501191a8eb",
   "metadata": {},
   "source": [
    "<h2> df.to_csv(write file name you want to save like 'file69.csv')"
   ]
  },
  {
   "cell_type": "code",
   "execution_count": 29,
   "id": "d844b738-ff91-4685-a2bc-348a8ae63fa3",
   "metadata": {},
   "outputs": [],
   "source": [
    "df.to_csv('file69.csv')"
   ]
  },
  {
   "cell_type": "code",
   "execution_count": 30,
   "id": "2a9f6d98-d8e8-49db-b3d2-27f1aab2c1cd",
   "metadata": {},
   "outputs": [],
   "source": [
    "# from csv import reader\n",
    "# # import pandas as pd\n",
    "# # data=[\"a,b,c,d,\\\"x,y\\\",e,f\"]\n",
    "# df=pd.DataFrame( list(reader(table1)))\n",
    "# print (df)"
   ]
  },
  {
   "cell_type": "code",
   "execution_count": null,
   "id": "9d0a9a77-19c3-4a46-a2a0-5863685f5f1d",
   "metadata": {},
   "outputs": [],
   "source": []
  },
  {
   "cell_type": "code",
   "execution_count": 31,
   "id": "bf6128b3-da62-4375-9eeb-3142f1b55dbe",
   "metadata": {},
   "outputs": [],
   "source": [
    "# table_con = pd.DataFrame(table1)"
   ]
  },
  {
   "cell_type": "code",
   "execution_count": 32,
   "id": "ad93fc77-4c11-4aff-b449-9ed25868fc6f",
   "metadata": {},
   "outputs": [],
   "source": [
    "# table_con.to_csv('file1.csv')"
   ]
  },
  {
   "cell_type": "code",
   "execution_count": 33,
   "id": "5d92ccac-5af9-43be-b437-dffc5c868411",
   "metadata": {},
   "outputs": [
    {
     "ename": "SyntaxError",
     "evalue": "(unicode error) 'unicodeescape' codec can't decode bytes in position 12-13: truncated \\UXXXXXXXX escape (3499421152.py, line 1)",
     "output_type": "error",
     "traceback": [
      "\u001b[0;36m  File \u001b[0;32m\"/tmp/ipykernel_1183/3499421152.py\"\u001b[0;36m, line \u001b[0;32m1\u001b[0m\n\u001b[0;31m    df.to_csv('‪C:\\Users\\Anand Bharti\\Desktop\\file3.csv', index=False)\u001b[0m\n\u001b[0m             ^\u001b[0m\n\u001b[0;31mSyntaxError\u001b[0m\u001b[0;31m:\u001b[0m (unicode error) 'unicodeescape' codec can't decode bytes in position 12-13: truncated \\UXXXXXXXX escape\n"
     ]
    }
   ],
   "source": [
    "df.to_csv('‪C:\\Users\\Anand Bharti\\Desktop\\file3.csv', index=False)"
   ]
  },
  {
   "cell_type": "code",
   "execution_count": null,
   "id": "b404c522-dab0-4129-a0b5-636639554edc",
   "metadata": {},
   "outputs": [],
   "source": []
  }
 ],
 "metadata": {
  "kernelspec": {
   "display_name": "Python",
   "language": "python",
   "name": "conda-env-python-py"
  },
  "language_info": {
   "codemirror_mode": {
    "name": "ipython",
    "version": 3
   },
   "file_extension": ".py",
   "mimetype": "text/x-python",
   "name": "python",
   "nbconvert_exporter": "python",
   "pygments_lexer": "ipython3",
   "version": "3.7.10"
  }
 },
 "nbformat": 4,
 "nbformat_minor": 5
}
